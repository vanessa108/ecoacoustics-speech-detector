{
 "cells": [
  {
   "cell_type": "code",
   "execution_count": 1,
   "source": [
    "import os\r\n",
    "import sys\r\n",
    "from IPython import display\r\n",
    "import matplotlib.pyplot as plt\r\n",
    "import numpy as np\r\n",
    "import pandas as pd\r\n",
    "import csv\r\n",
    "from sklearn import metrics\r\n",
    "import tensorflow as tf\r\n",
    "import tensorflow_hub as hub\r\n",
    "import tensorflow_io as tfio\r\n",
    "from math import ceil\r\n",
    "tf.compat.v1.logging.set_verbosity(tf.compat.v1.logging.ERROR)"
   ],
   "outputs": [],
   "metadata": {}
  },
  {
   "cell_type": "code",
   "execution_count": 43,
   "source": [
    "@tf.function\r\n",
    "def load_wav_16k_mono(filename):\r\n",
    "    \"\"\" Load a WAV file, convert it to a float tensor, resample to 16 kHz single-channel audio. \"\"\"\r\n",
    "    file_contents = tf.io.read_file(filename)\r\n",
    "    wav, sample_rate = tf.audio.decode_wav(\r\n",
    "          file_contents,\r\n",
    "          desired_channels=1)\r\n",
    "    wav = tf.squeeze(wav, axis=-1)\r\n",
    "    sample_rate = tf.cast(sample_rate, dtype=tf.int64)\r\n",
    "    wav = tfio.audio.resample(wav, rate_in=sample_rate, rate_out=16000)\r\n",
    "    return wav\r\n",
    "\r\n",
    "def speech_predicted_time(results):\r\n",
    "    time = np.linspace(0, len(results)*hop_length, len(results)+1)\r\n",
    "    time = time[0:len(time)-1]\r\n",
    "    return np.stack([time, results.numpy()],axis=1)\r\n",
    "\r\n",
    "def speech_second2minute(speech_seconds):\r\n",
    "    speech_num_minutes = ceil(len(speech_seconds)/125)\r\n",
    "    speech_minute = np.zeros(speech_num_minutes)\r\n",
    "    minutes = np.linspace(0, speech_num_minutes*125, speech_num_minutes+1)\r\n",
    "    for i in range(0, len(minutes)-2):\r\n",
    "        start_t = int(minutes[i])\r\n",
    "        end_t = start_t + 124\r\n",
    "        this_min = speech_seconds[start_t:end_t]\r\n",
    "        speech = evaluate_minute(this_min)\r\n",
    "        speech_minute[i] = speech\r\n",
    "    return speech_minute\r\n",
    "\r\n",
    "def evaluate_minute(speech, window_size=2):\r\n",
    "    windows = np.lib.stride_tricks.sliding_window_view(speech, window_size)\r\n",
    "    speech = windows[:, 0] * windows[:, 1]\r\n",
    "    speech = np.sum(speech)\r\n",
    "    if speech > 0:\r\n",
    "        return 1\r\n",
    "    return 0\r\n",
    "\r\n",
    "def see_specific_min(speech, timestamp):\r\n",
    "    start = int((timestamp*60)/0.48)\r\n",
    "    end = start + 149\r\n",
    "    return speech[start:end]"
   ],
   "outputs": [],
   "metadata": {}
  },
  {
   "cell_type": "code",
   "execution_count": 7,
   "source": [
    "saved_model_path = './my_models'\r\n",
    "model = tf.saved_model.load(saved_model_path)\r\n",
    "my_classes = ['not speech', 'speech']\r\n",
    "map_class_to_id = {'not speech':0, 'speech':1}\r\n",
    "hop_length = 0.48"
   ],
   "outputs": [],
   "metadata": {}
  },
  {
   "cell_type": "code",
   "execution_count": 9,
   "source": [
    "test_audio = load_wav_16k_mono('20210916T022746+1000_sensor_-27.4766+153.029.wav')\r\n",
    "results = model(test_audio)"
   ],
   "outputs": [],
   "metadata": {}
  },
  {
   "cell_type": "code",
   "execution_count": 34,
   "source": [
    "speech = speech_predicted_time(results)\r\n",
    "sMin = speech_second2minute(speech[:, 1])"
   ],
   "outputs": [],
   "metadata": {}
  },
  {
   "cell_type": "code",
   "execution_count": 45,
   "source": [
    "thisMin = see_specific_min(speech[:,1], 36)"
   ],
   "outputs": [],
   "metadata": {}
  },
  {
   "cell_type": "code",
   "execution_count": 35,
   "source": [
    "np.argwhere(sMin ==1)"
   ],
   "outputs": [
    {
     "output_type": "execute_result",
     "data": {
      "text/plain": [
       "array([[10],\n",
       "       [15],\n",
       "       [32],\n",
       "       [36],\n",
       "       [37],\n",
       "       [41],\n",
       "       [47],\n",
       "       [49],\n",
       "       [50],\n",
       "       [55]], dtype=int64)"
      ]
     },
     "metadata": {},
     "execution_count": 35
    }
   ],
   "metadata": {}
  },
  {
   "cell_type": "code",
   "execution_count": null,
   "source": [],
   "outputs": [],
   "metadata": {}
  }
 ],
 "metadata": {
  "orig_nbformat": 4,
  "language_info": {
   "name": "python",
   "version": "3.9.1",
   "mimetype": "text/x-python",
   "codemirror_mode": {
    "name": "ipython",
    "version": 3
   },
   "pygments_lexer": "ipython3",
   "nbconvert_exporter": "python",
   "file_extension": ".py"
  },
  "kernelspec": {
   "name": "python3",
   "display_name": "Python 3.9.1 64-bit"
  },
  "interpreter": {
   "hash": "f590536598b249c76a56afcc0e4a9525a2a7168e83143d1960f7065c3e4f0ea7"
  }
 },
 "nbformat": 4,
 "nbformat_minor": 2
}